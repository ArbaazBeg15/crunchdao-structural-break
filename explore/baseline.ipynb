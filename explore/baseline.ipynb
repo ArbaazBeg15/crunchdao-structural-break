{
 "cells": [
  {
   "cell_type": "code",
   "execution_count": 4,
   "id": "49a16cb3",
   "metadata": {},
   "outputs": [
    {
     "data": {
      "text/plain": [
       "['y_train.parquet',\n",
       " 'X_train.parquet',\n",
       " '.gitignore',\n",
       " 'X_test.reduced.parquet',\n",
       " 'y_test.reduced.parquet']"
      ]
     },
     "execution_count": 4,
     "metadata": {},
     "output_type": "execute_result"
    }
   ],
   "source": [
    "import os\n",
    "import pandas as pd\n",
    "\n",
    "path = \"/Users/arbaaz/Downloads/break/ds\"\n",
    "os.listdir(path)"
   ]
  },
  {
   "cell_type": "code",
   "execution_count": 5,
   "id": "4b9193b5",
   "metadata": {},
   "outputs": [
    {
     "data": {
      "text/html": [
       "<div>\n",
       "<style scoped>\n",
       "    .dataframe tbody tr th:only-of-type {\n",
       "        vertical-align: middle;\n",
       "    }\n",
       "\n",
       "    .dataframe tbody tr th {\n",
       "        vertical-align: top;\n",
       "    }\n",
       "\n",
       "    .dataframe thead th {\n",
       "        text-align: right;\n",
       "    }\n",
       "</style>\n",
       "<table border=\"1\" class=\"dataframe\">\n",
       "  <thead>\n",
       "    <tr style=\"text-align: right;\">\n",
       "      <th></th>\n",
       "      <th></th>\n",
       "      <th>value</th>\n",
       "      <th>period</th>\n",
       "    </tr>\n",
       "    <tr>\n",
       "      <th>id</th>\n",
       "      <th>time</th>\n",
       "      <th></th>\n",
       "      <th></th>\n",
       "    </tr>\n",
       "  </thead>\n",
       "  <tbody>\n",
       "    <tr>\n",
       "      <th rowspan=\"5\" valign=\"top\">0</th>\n",
       "      <th>0</th>\n",
       "      <td>-0.005564</td>\n",
       "      <td>0</td>\n",
       "    </tr>\n",
       "    <tr>\n",
       "      <th>1</th>\n",
       "      <td>0.003705</td>\n",
       "      <td>0</td>\n",
       "    </tr>\n",
       "    <tr>\n",
       "      <th>2</th>\n",
       "      <td>0.013164</td>\n",
       "      <td>0</td>\n",
       "    </tr>\n",
       "    <tr>\n",
       "      <th>3</th>\n",
       "      <td>0.007151</td>\n",
       "      <td>0</td>\n",
       "    </tr>\n",
       "    <tr>\n",
       "      <th>4</th>\n",
       "      <td>-0.009979</td>\n",
       "      <td>0</td>\n",
       "    </tr>\n",
       "  </tbody>\n",
       "</table>\n",
       "</div>"
      ],
      "text/plain": [
       "            value  period\n",
       "id time                  \n",
       "0  0    -0.005564       0\n",
       "   1     0.003705       0\n",
       "   2     0.013164       0\n",
       "   3     0.007151       0\n",
       "   4    -0.009979       0"
      ]
     },
     "execution_count": 5,
     "metadata": {},
     "output_type": "execute_result"
    }
   ],
   "source": [
    "X_train_path = path+\"/X_train.parquet\"\n",
    "df_x = pd.read_parquet(X_train_path)\n",
    "df_x.head()"
   ]
  },
  {
   "cell_type": "code",
   "execution_count": 6,
   "id": "a66256ff",
   "metadata": {},
   "outputs": [
    {
     "data": {
      "text/html": [
       "<div>\n",
       "<style scoped>\n",
       "    .dataframe tbody tr th:only-of-type {\n",
       "        vertical-align: middle;\n",
       "    }\n",
       "\n",
       "    .dataframe tbody tr th {\n",
       "        vertical-align: top;\n",
       "    }\n",
       "\n",
       "    .dataframe thead th {\n",
       "        text-align: right;\n",
       "    }\n",
       "</style>\n",
       "<table border=\"1\" class=\"dataframe\">\n",
       "  <thead>\n",
       "    <tr style=\"text-align: right;\">\n",
       "      <th></th>\n",
       "      <th>value</th>\n",
       "      <th>period</th>\n",
       "    </tr>\n",
       "  </thead>\n",
       "  <tbody>\n",
       "    <tr>\n",
       "      <th>count</th>\n",
       "      <td>2.371573e+07</td>\n",
       "      <td>2.371573e+07</td>\n",
       "    </tr>\n",
       "    <tr>\n",
       "      <th>mean</th>\n",
       "      <td>5.728306e-04</td>\n",
       "      <td>2.633960e-01</td>\n",
       "    </tr>\n",
       "    <tr>\n",
       "      <th>std</th>\n",
       "      <td>9.528225e-02</td>\n",
       "      <td>4.404754e-01</td>\n",
       "    </tr>\n",
       "    <tr>\n",
       "      <th>min</th>\n",
       "      <td>-2.284821e+00</td>\n",
       "      <td>0.000000e+00</td>\n",
       "    </tr>\n",
       "    <tr>\n",
       "      <th>25%</th>\n",
       "      <td>-4.524159e-03</td>\n",
       "      <td>0.000000e+00</td>\n",
       "    </tr>\n",
       "    <tr>\n",
       "      <th>50%</th>\n",
       "      <td>8.761704e-05</td>\n",
       "      <td>0.000000e+00</td>\n",
       "    </tr>\n",
       "    <tr>\n",
       "      <th>75%</th>\n",
       "      <td>4.992070e-03</td>\n",
       "      <td>1.000000e+00</td>\n",
       "    </tr>\n",
       "    <tr>\n",
       "      <th>max</th>\n",
       "      <td>4.125000e+02</td>\n",
       "      <td>1.000000e+00</td>\n",
       "    </tr>\n",
       "  </tbody>\n",
       "</table>\n",
       "</div>"
      ],
      "text/plain": [
       "              value        period\n",
       "count  2.371573e+07  2.371573e+07\n",
       "mean   5.728306e-04  2.633960e-01\n",
       "std    9.528225e-02  4.404754e-01\n",
       "min   -2.284821e+00  0.000000e+00\n",
       "25%   -4.524159e-03  0.000000e+00\n",
       "50%    8.761704e-05  0.000000e+00\n",
       "75%    4.992070e-03  1.000000e+00\n",
       "max    4.125000e+02  1.000000e+00"
      ]
     },
     "execution_count": 6,
     "metadata": {},
     "output_type": "execute_result"
    }
   ],
   "source": [
    "df_x.describe()"
   ]
  },
  {
   "cell_type": "code",
   "execution_count": 7,
   "id": "8f6c9ba3",
   "metadata": {},
   "outputs": [
    {
     "data": {
      "text/plain": [
       "count    10001.000000\n",
       "mean      2371.336266\n",
       "std        482.645935\n",
       "min       1258.000000\n",
       "25%       1991.000000\n",
       "50%       2369.000000\n",
       "75%       2743.000000\n",
       "max       3478.000000\n",
       "dtype: float64"
      ]
     },
     "execution_count": 7,
     "metadata": {},
     "output_type": "execute_result"
    }
   ],
   "source": [
    "df_x.groupby(\"id\").size().describe()"
   ]
  },
  {
   "cell_type": "code",
   "execution_count": 8,
   "id": "582728f3",
   "metadata": {},
   "outputs": [
    {
     "data": {
      "image/png": "[encoded data removed]",
      "text/plain": [
       "<Figure size 1000x500 with 1 Axes>"
      ]
     },
     "metadata": {},
     "output_type": "display_data"
    }
   ],
   "source": [
    "import matplotlib.pyplot as plt\n",
    "\n",
    "def plot_length_histogram(X, bins=50):\n",
    "    lengths = X.groupby('id').size()\n",
    "    mean = lengths.mean()\n",
    "    std = lengths.std()\n",
    "\n",
    "    plt.figure(figsize=(10, 5))\n",
    "    plt.hist(lengths, bins=bins, edgecolor='black')\n",
    "    plt.axvline(mean, color='r', linestyle='--', label=f'Mean: {mean:.2f}')\n",
    "    plt.axvline(mean + std, color='g', linestyle='--', label=f'+1 Std: {mean + std:.2f}')\n",
    "    plt.axvline(mean - std, color='g', linestyle='--', label=f'-1 Std: {mean - std:.2f}')\n",
    "    plt.title(\"Histogram of Time Series Lengths\")\n",
    "    plt.xlabel(\"Length\")\n",
    "    plt.ylabel(\"Frequency\")\n",
    "    plt.legend()\n",
    "    plt.tight_layout()\n",
    "    plt.show()\n",
    "\n",
    "plot_length_histogram(df_x)"
   ]
  },
  {
   "cell_type": "code",
   "execution_count": 9,
   "id": "e46059f7",
   "metadata": {},
   "outputs": [
    {
     "data": {
      "image/png": "[encoded data removed]",
      "text/plain": [
       "<Figure size 600x500 with 1 Axes>"
      ]
     },
     "metadata": {},
     "output_type": "display_data"
    }
   ],
   "source": [
    "def plot_length_boxplot(X):\n",
    "    lengths = X.groupby('id').size()\n",
    "\n",
    "    plt.figure(figsize=(6, 5))\n",
    "    plt.boxplot(lengths, vert=False)\n",
    "    plt.title(\"Boxplot of Time Series Lengths\")\n",
    "    plt.xlabel(\"Length\")\n",
    "    plt.tight_layout()\n",
    "    plt.show()\n",
    "\n",
    "plot_length_boxplot(df_x)"
   ]
  },
  {
   "cell_type": "code",
   "execution_count": 10,
   "id": "722e403e",
   "metadata": {},
   "outputs": [
    {
     "data": {
      "text/plain": [
       "period\n",
       "0    17469105\n",
       "1     6246629\n",
       "Name: count, dtype: int64"
      ]
     },
     "execution_count": 10,
     "metadata": {},
     "output_type": "execute_result"
    }
   ],
   "source": [
    "df_x[\"period\"].value_counts().sort_index()"
   ]
  },
  {
   "cell_type": "code",
   "execution_count": 11,
   "id": "f43726ce",
   "metadata": {},
   "outputs": [
    {
     "data": {
      "text/html": [
       "<div>\n",
       "<style scoped>\n",
       "    .dataframe tbody tr th:only-of-type {\n",
       "        vertical-align: middle;\n",
       "    }\n",
       "\n",
       "    .dataframe tbody tr th {\n",
       "        vertical-align: top;\n",
       "    }\n",
       "\n",
       "    .dataframe thead th {\n",
       "        text-align: right;\n",
       "    }\n",
       "</style>\n",
       "<table border=\"1\" class=\"dataframe\">\n",
       "  <thead>\n",
       "    <tr style=\"text-align: right;\">\n",
       "      <th>period</th>\n",
       "      <th>0</th>\n",
       "      <th>1</th>\n",
       "    </tr>\n",
       "    <tr>\n",
       "      <th>id</th>\n",
       "      <th></th>\n",
       "      <th></th>\n",
       "    </tr>\n",
       "  </thead>\n",
       "  <tbody>\n",
       "    <tr>\n",
       "      <th>0</th>\n",
       "      <td>1351</td>\n",
       "      <td>294</td>\n",
       "    </tr>\n",
       "    <tr>\n",
       "      <th>1</th>\n",
       "      <td>2247</td>\n",
       "      <td>282</td>\n",
       "    </tr>\n",
       "    <tr>\n",
       "      <th>2</th>\n",
       "      <td>2333</td>\n",
       "      <td>515</td>\n",
       "    </tr>\n",
       "    <tr>\n",
       "      <th>3</th>\n",
       "      <td>2271</td>\n",
       "      <td>629</td>\n",
       "    </tr>\n",
       "    <tr>\n",
       "      <th>4</th>\n",
       "      <td>1657</td>\n",
       "      <td>456</td>\n",
       "    </tr>\n",
       "    <tr>\n",
       "      <th>...</th>\n",
       "      <td>...</td>\n",
       "      <td>...</td>\n",
       "    </tr>\n",
       "    <tr>\n",
       "      <th>9996</th>\n",
       "      <td>2160</td>\n",
       "      <td>554</td>\n",
       "    </tr>\n",
       "    <tr>\n",
       "      <th>9997</th>\n",
       "      <td>1780</td>\n",
       "      <td>363</td>\n",
       "    </tr>\n",
       "    <tr>\n",
       "      <th>9998</th>\n",
       "      <td>2483</td>\n",
       "      <td>907</td>\n",
       "    </tr>\n",
       "    <tr>\n",
       "      <th>9999</th>\n",
       "      <td>1995</td>\n",
       "      <td>881</td>\n",
       "    </tr>\n",
       "    <tr>\n",
       "      <th>10000</th>\n",
       "      <td>1708</td>\n",
       "      <td>431</td>\n",
       "    </tr>\n",
       "  </tbody>\n",
       "</table>\n",
       "<p>10001 rows × 2 columns</p>\n",
       "</div>"
      ],
      "text/plain": [
       "period     0    1\n",
       "id               \n",
       "0       1351  294\n",
       "1       2247  282\n",
       "2       2333  515\n",
       "3       2271  629\n",
       "4       1657  456\n",
       "...      ...  ...\n",
       "9996    2160  554\n",
       "9997    1780  363\n",
       "9998    2483  907\n",
       "9999    1995  881\n",
       "10000   1708  431\n",
       "\n",
       "[10001 rows x 2 columns]"
      ]
     },
     "execution_count": 11,
     "metadata": {},
     "output_type": "execute_result"
    }
   ],
   "source": [
    "df_x.groupby(\"id\")[\"period\"].value_counts().unstack(fill_value=0)"
   ]
  },
  {
   "cell_type": "code",
   "execution_count": 12,
   "id": "72d240f1",
   "metadata": {},
   "outputs": [
    {
     "data": {
      "text/plain": [
       "time  period\n",
       "0     0         10001\n",
       "1     0         10001\n",
       "2     0         10001\n",
       "3     0         10001\n",
       "4     0         10001\n",
       "                ...  \n",
       "3473  1             2\n",
       "3474  1             1\n",
       "3475  1             1\n",
       "3476  1             1\n",
       "3477  1             1\n",
       "Name: count, Length: 4977, dtype: int64"
      ]
     },
     "execution_count": 12,
     "metadata": {},
     "output_type": "execute_result"
    }
   ],
   "source": [
    "df_x.groupby('time')['period'].value_counts()"
   ]
  },
  {
   "cell_type": "code",
   "execution_count": 14,
   "id": "264fd20a",
   "metadata": {},
   "outputs": [
    {
     "data": {
      "text/plain": [
       "period\n",
       "0    17.469105\n",
       "1     6.246629\n",
       "Name: count, dtype: float64"
      ]
     },
     "execution_count": 14,
     "metadata": {},
     "output_type": "execute_result"
    }
   ],
   "source": [
    "df_x['period'].value_counts().sort_index() / 1e6"
   ]
  },
  {
   "cell_type": "code",
   "execution_count": 16,
   "id": "4863c1aa",
   "metadata": {},
   "outputs": [
    {
     "data": {
      "text/html": [
       "<div>\n",
       "<style scoped>\n",
       "    .dataframe tbody tr th:only-of-type {\n",
       "        vertical-align: middle;\n",
       "    }\n",
       "\n",
       "    .dataframe tbody tr th {\n",
       "        vertical-align: top;\n",
       "    }\n",
       "\n",
       "    .dataframe thead th {\n",
       "        text-align: right;\n",
       "    }\n",
       "</style>\n",
       "<table border=\"1\" class=\"dataframe\">\n",
       "  <thead>\n",
       "    <tr style=\"text-align: right;\">\n",
       "      <th>period</th>\n",
       "      <th>0</th>\n",
       "      <th>1</th>\n",
       "    </tr>\n",
       "    <tr>\n",
       "      <th>id</th>\n",
       "      <th></th>\n",
       "      <th></th>\n",
       "    </tr>\n",
       "  </thead>\n",
       "  <tbody>\n",
       "    <tr>\n",
       "      <th>0</th>\n",
       "      <td>1351</td>\n",
       "      <td>294</td>\n",
       "    </tr>\n",
       "    <tr>\n",
       "      <th>1</th>\n",
       "      <td>2247</td>\n",
       "      <td>282</td>\n",
       "    </tr>\n",
       "    <tr>\n",
       "      <th>2</th>\n",
       "      <td>2333</td>\n",
       "      <td>515</td>\n",
       "    </tr>\n",
       "    <tr>\n",
       "      <th>3</th>\n",
       "      <td>2271</td>\n",
       "      <td>629</td>\n",
       "    </tr>\n",
       "    <tr>\n",
       "      <th>4</th>\n",
       "      <td>1657</td>\n",
       "      <td>456</td>\n",
       "    </tr>\n",
       "    <tr>\n",
       "      <th>...</th>\n",
       "      <td>...</td>\n",
       "      <td>...</td>\n",
       "    </tr>\n",
       "    <tr>\n",
       "      <th>9996</th>\n",
       "      <td>2160</td>\n",
       "      <td>554</td>\n",
       "    </tr>\n",
       "    <tr>\n",
       "      <th>9997</th>\n",
       "      <td>1780</td>\n",
       "      <td>363</td>\n",
       "    </tr>\n",
       "    <tr>\n",
       "      <th>9998</th>\n",
       "      <td>2483</td>\n",
       "      <td>907</td>\n",
       "    </tr>\n",
       "    <tr>\n",
       "      <th>9999</th>\n",
       "      <td>1995</td>\n",
       "      <td>881</td>\n",
       "    </tr>\n",
       "    <tr>\n",
       "      <th>10000</th>\n",
       "      <td>1708</td>\n",
       "      <td>431</td>\n",
       "    </tr>\n",
       "  </tbody>\n",
       "</table>\n",
       "<p>10001 rows × 2 columns</p>\n",
       "</div>"
      ],
      "text/plain": [
       "period     0    1\n",
       "id               \n",
       "0       1351  294\n",
       "1       2247  282\n",
       "2       2333  515\n",
       "3       2271  629\n",
       "4       1657  456\n",
       "...      ...  ...\n",
       "9996    2160  554\n",
       "9997    1780  363\n",
       "9998    2483  907\n",
       "9999    1995  881\n",
       "10000   1708  431\n",
       "\n",
       "[10001 rows x 2 columns]"
      ]
     },
     "execution_count": 16,
     "metadata": {},
     "output_type": "execute_result"
    }
   ],
   "source": [
    "periods_summary = df_x.groupby('id')['period'].value_counts().unstack(fill_value=0)\n",
    "periods_summary"
   ]
  },
  {
   "cell_type": "code",
   "execution_count": 17,
   "id": "a6e561bf",
   "metadata": {},
   "outputs": [
    {
     "data": {
      "text/html": [
       "<div>\n",
       "<style scoped>\n",
       "    .dataframe tbody tr th:only-of-type {\n",
       "        vertical-align: middle;\n",
       "    }\n",
       "\n",
       "    .dataframe tbody tr th {\n",
       "        vertical-align: top;\n",
       "    }\n",
       "\n",
       "    .dataframe thead th {\n",
       "        text-align: right;\n",
       "    }\n",
       "</style>\n",
       "<table border=\"1\" class=\"dataframe\">\n",
       "  <thead>\n",
       "    <tr style=\"text-align: right;\">\n",
       "      <th></th>\n",
       "      <th>Period 0</th>\n",
       "      <th>Period 1</th>\n",
       "    </tr>\n",
       "  </thead>\n",
       "  <tbody>\n",
       "    <tr>\n",
       "      <th>count</th>\n",
       "      <td>10001.000000</td>\n",
       "      <td>10001.00000</td>\n",
       "    </tr>\n",
       "    <tr>\n",
       "      <th>mean</th>\n",
       "      <td>1746.735826</td>\n",
       "      <td>624.60044</td>\n",
       "    </tr>\n",
       "    <tr>\n",
       "      <th>std</th>\n",
       "      <td>432.507524</td>\n",
       "      <td>215.98523</td>\n",
       "    </tr>\n",
       "    <tr>\n",
       "      <th>min</th>\n",
       "      <td>1000.000000</td>\n",
       "      <td>250.00000</td>\n",
       "    </tr>\n",
       "    <tr>\n",
       "      <th>25%</th>\n",
       "      <td>1368.000000</td>\n",
       "      <td>435.00000</td>\n",
       "    </tr>\n",
       "    <tr>\n",
       "      <th>50%</th>\n",
       "      <td>1749.000000</td>\n",
       "      <td>629.00000</td>\n",
       "    </tr>\n",
       "    <tr>\n",
       "      <th>75%</th>\n",
       "      <td>2119.000000</td>\n",
       "      <td>810.00000</td>\n",
       "    </tr>\n",
       "    <tr>\n",
       "      <th>max</th>\n",
       "      <td>2499.000000</td>\n",
       "      <td>999.00000</td>\n",
       "    </tr>\n",
       "  </tbody>\n",
       "</table>\n",
       "</div>"
      ],
      "text/plain": [
       "           Period 0     Period 1\n",
       "count  10001.000000  10001.00000\n",
       "mean    1746.735826    624.60044\n",
       "std      432.507524    215.98523\n",
       "min     1000.000000    250.00000\n",
       "25%     1368.000000    435.00000\n",
       "50%     1749.000000    629.00000\n",
       "75%     2119.000000    810.00000\n",
       "max     2499.000000    999.00000"
      ]
     },
     "execution_count": 17,
     "metadata": {},
     "output_type": "execute_result"
    }
   ],
   "source": [
    "def period_stats_summary(per_series_counts):\n",
    "    stats_0 = per_series_counts[0].describe()\n",
    "    stats_1 = per_series_counts[1].describe()\n",
    "\n",
    "    summary = pd.DataFrame({\n",
    "        'Period 0': stats_0,\n",
    "        'Period 1': stats_1\n",
    "    })\n",
    "\n",
    "    return summary\n",
    "\n",
    "\n",
    "period_stats_summary(periods_summary)"
   ]
  },
  {
   "cell_type": "code",
   "execution_count": 19,
   "id": "0c384bd7",
   "metadata": {},
   "outputs": [
    {
     "data": {
      "image/png": "[encoded data removed]",
      "text/plain": [
       "<Figure size 1000x600 with 1 Axes>"
      ]
     },
     "metadata": {},
     "output_type": "display_data"
    }
   ],
   "source": [
    "import matplotlib.pyplot as plt\n",
    "import seaborn as sns\n",
    "\n",
    "def plot_period_count_distribution(period_counts_df, plot_type=\"kde\"):\n",
    "    \"\"\"\n",
    "    Plots overlapping density or histogram plots for period 0 and period 1 counts.\n",
    "\n",
    "    Args:\n",
    "        period_counts_df (pd.DataFrame): DataFrame with columns [0, 1] or ['Period 0', 'Period 1']\n",
    "                                          representing counts per series.\n",
    "        plot_type (str): \"kde\" for density plot, \"hist\" for histogram.\n",
    "    \"\"\"\n",
    "    # Rename columns if needed\n",
    "    if 0 in period_counts_df.columns:\n",
    "        period_counts_df = period_counts_df.rename(columns={0: 'Period 0', 1: 'Period 1'})\n",
    "    \n",
    "    plt.figure(figsize=(10, 6))\n",
    "\n",
    "    if plot_type == \"kde\":\n",
    "        sns.kdeplot(period_counts_df['Period 0'], fill=True, label='Period 0', linewidth=2)\n",
    "        sns.kdeplot(period_counts_df['Period 1'], fill=True, label='Period 1', linewidth=2)\n",
    "    elif plot_type == \"hist\":\n",
    "        plt.hist(period_counts_df['Period 0'], bins=50, alpha=0.6, label='Period 0', edgecolor='black')\n",
    "        plt.hist(period_counts_df['Period 1'], bins=50, alpha=0.6, label='Period 1', edgecolor='black')\n",
    "    else:\n",
    "        raise ValueError(\"plot_type must be either 'kde' or 'hist'\")\n",
    "\n",
    "    plt.title(\"Distribution of Period Counts per Series\")\n",
    "    plt.xlabel(\"Count\")\n",
    "    plt.ylabel(\"Density\" if plot_type == \"kde\" else \"Frequency\")\n",
    "    plt.legend()\n",
    "    plt.grid(True)\n",
    "    plt.tight_layout()\n",
    "    plt.show()\n",
    "\n",
    "\n",
    "plot_period_count_distribution(periods_summary, \"hist\")"
   ]
  },
  {
   "cell_type": "code",
   "execution_count": null,
   "id": "45c8fcd0",
   "metadata": {},
   "outputs": [],
   "source": []
  }
 ],
 "metadata": {
  "kernelspec": {
   "display_name": "Python 3",
   "language": "python",
   "name": "python3"
  },
  "language_info": {
   "codemirror_mode": {
    "name": "ipython",
    "version": 3
   },
   "file_extension": ".py",
   "mimetype": "text/x-python",
   "name": "python",
   "nbconvert_exporter": "python",
   "pygments_lexer": "ipython3",
   "version": "3.13.3"
  }
 },
 "nbformat": 4,
 "nbformat_minor": 5
}
