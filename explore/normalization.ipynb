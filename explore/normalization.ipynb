{
 "cells": [
  {
   "cell_type": "code",
   "execution_count": 3,
   "id": "5e0be02e",
   "metadata": {},
   "outputs": [
    {
     "data": {
      "text/plain": [
       "['y_train.parquet',\n",
       " 'X_train.parquet',\n",
       " '.gitignore',\n",
       " 'X_test.reduced.parquet',\n",
       " 'y_test.reduced.parquet']"
      ]
     },
     "execution_count": 3,
     "metadata": {},
     "output_type": "execute_result"
    }
   ],
   "source": [
    "import os\n",
    "\n",
    "PATH = \"/Users/arbaaz/Downloads/break/ds\"\n",
    "os.listdir(PATH)"
   ]
  },
  {
   "cell_type": "code",
   "execution_count": 4,
   "id": "97e6530d",
   "metadata": {},
   "outputs": [],
   "source": [
    "x_train_path = PATH+\"/X_train.parquet\"\n",
    "y_train_path = PATH+\"/y_train.parquet\""
   ]
  },
  {
   "cell_type": "code",
   "execution_count": null,
   "id": "6a9a4e95",
   "metadata": {},
   "outputs": [],
   "source": [
    "import pandas as pd\n",
    "\n",
    "df_x = pd.read_parquet(x_train_path)\n",
    "df_y = pd.read_parquet(y_train_path)"
   ]
  },
  {
   "cell_type": "code",
   "execution_count": 19,
   "id": "9d8e485b",
   "metadata": {},
   "outputs": [
    {
     "data": {
      "text/html": [
       "<div>\n",
       "<style scoped>\n",
       "    .dataframe tbody tr th:only-of-type {\n",
       "        vertical-align: middle;\n",
       "    }\n",
       "\n",
       "    .dataframe tbody tr th {\n",
       "        vertical-align: top;\n",
       "    }\n",
       "\n",
       "    .dataframe thead th {\n",
       "        text-align: right;\n",
       "    }\n",
       "</style>\n",
       "<table border=\"1\" class=\"dataframe\">\n",
       "  <thead>\n",
       "    <tr style=\"text-align: right;\">\n",
       "      <th></th>\n",
       "      <th></th>\n",
       "      <th>value</th>\n",
       "      <th>period</th>\n",
       "    </tr>\n",
       "    <tr>\n",
       "      <th>id</th>\n",
       "      <th>time</th>\n",
       "      <th></th>\n",
       "      <th></th>\n",
       "    </tr>\n",
       "  </thead>\n",
       "  <tbody>\n",
       "    <tr>\n",
       "      <th rowspan=\"5\" valign=\"top\">0</th>\n",
       "      <th>0</th>\n",
       "      <td>-0.005564</td>\n",
       "      <td>0</td>\n",
       "    </tr>\n",
       "    <tr>\n",
       "      <th>1</th>\n",
       "      <td>0.003705</td>\n",
       "      <td>0</td>\n",
       "    </tr>\n",
       "    <tr>\n",
       "      <th>2</th>\n",
       "      <td>0.013164</td>\n",
       "      <td>0</td>\n",
       "    </tr>\n",
       "    <tr>\n",
       "      <th>3</th>\n",
       "      <td>0.007151</td>\n",
       "      <td>0</td>\n",
       "    </tr>\n",
       "    <tr>\n",
       "      <th>4</th>\n",
       "      <td>-0.009979</td>\n",
       "      <td>0</td>\n",
       "    </tr>\n",
       "    <tr>\n",
       "      <th>...</th>\n",
       "      <th>...</th>\n",
       "      <td>...</td>\n",
       "      <td>...</td>\n",
       "    </tr>\n",
       "    <tr>\n",
       "      <th rowspan=\"5\" valign=\"top\">10000</th>\n",
       "      <th>2134</th>\n",
       "      <td>0.001137</td>\n",
       "      <td>1</td>\n",
       "    </tr>\n",
       "    <tr>\n",
       "      <th>2135</th>\n",
       "      <td>0.003526</td>\n",
       "      <td>1</td>\n",
       "    </tr>\n",
       "    <tr>\n",
       "      <th>2136</th>\n",
       "      <td>0.000687</td>\n",
       "      <td>1</td>\n",
       "    </tr>\n",
       "    <tr>\n",
       "      <th>2137</th>\n",
       "      <td>0.001640</td>\n",
       "      <td>1</td>\n",
       "    </tr>\n",
       "    <tr>\n",
       "      <th>2138</th>\n",
       "      <td>0.001074</td>\n",
       "      <td>1</td>\n",
       "    </tr>\n",
       "  </tbody>\n",
       "</table>\n",
       "<p>23715734 rows × 2 columns</p>\n",
       "</div>"
      ],
      "text/plain": [
       "               value  period\n",
       "id    time                  \n",
       "0     0    -0.005564       0\n",
       "      1     0.003705       0\n",
       "      2     0.013164       0\n",
       "      3     0.007151       0\n",
       "      4    -0.009979       0\n",
       "...              ...     ...\n",
       "10000 2134  0.001137       1\n",
       "      2135  0.003526       1\n",
       "      2136  0.000687       1\n",
       "      2137  0.001640       1\n",
       "      2138  0.001074       1\n",
       "\n",
       "[23715734 rows x 2 columns]"
      ]
     },
     "execution_count": 19,
     "metadata": {},
     "output_type": "execute_result"
    }
   ],
   "source": [
    "df_x"
   ]
  },
  {
   "cell_type": "code",
   "execution_count": 12,
   "id": "77e1ba00",
   "metadata": {},
   "outputs": [
    {
     "data": {
      "text/plain": [
       "(np.float64(0.0005728306224853421), np.float64(0.09528225090103917))"
      ]
     },
     "execution_count": 12,
     "metadata": {},
     "output_type": "execute_result"
    }
   ],
   "source": [
    "x = df_x[\"value\"].to_numpy()\n",
    "mean = x.mean()\n",
    "std = x.std()\n",
    "mean, std"
   ]
  },
  {
   "cell_type": "code",
   "execution_count": null,
   "id": "4dd562c7",
   "metadata": {},
   "outputs": [
    {
     "data": {
      "text/plain": [
       "(np.float64(-57.00730385604509),\n",
       " np.float64(55.73396997624832),\n",
       " np.float64(3.969808081344363e-21),\n",
       " np.float64(0.9997868624542434))"
      ]
     },
     "execution_count": 21,
     "metadata": {},
     "output_type": "execute_result"
    }
   ],
   "source": [
    "# Group by 'id' and apply Z-score normalization on 'value'\n",
    "df_x['value_zscore'] = df_x.groupby('id')['value'].transform(\n",
    "    lambda x: (x - x.mean()) / (x.std() + 1e-8)  # add epsilon to avoid div by zero\n",
    ")"
   ]
  },
  {
   "cell_type": "code",
   "execution_count": 30,
   "id": "cbb17a6e",
   "metadata": {},
   "outputs": [
    {
     "data": {
      "image/png": "[encoded data removed]",
      "text/plain": [
       "<Figure size 1000x500 with 1 Axes>"
      ]
     },
     "metadata": {},
     "output_type": "display_data"
    }
   ],
   "source": [
    "import matplotlib.pyplot as plt\n",
    "\n",
    "def simple_value_histogram(data, column='value', bins=100, range=(-5, 5)):\n",
    "    \"\"\"\n",
    "    Plots a simple histogram of the 'value' column, zoomed in to small range.\n",
    "\n",
    "    Parameters:\n",
    "    - data: pandas.DataFrame\n",
    "    - column: str, default 'value'\n",
    "    - bins: int, number of bins\n",
    "    - range: tuple, x-axis limits to zoom in\n",
    "    \"\"\"\n",
    "    plt.figure(figsize=(10, 5))\n",
    "\n",
    "    # Plot histogram with zoomed range\n",
    "    plt.hist(data[column], bins=bins, range=range, color='skyblue', edgecolor='black')\n",
    "\n",
    "    plt.xlabel(column)\n",
    "    plt.ylabel('Frequency')\n",
    "    plt.title(f'Histogram of {column} (Zoomed in)')\n",
    "    plt.grid(True)\n",
    "    plt.tight_layout()\n",
    "    plt.show()\n",
    "    \n",
    "simple_value_histogram(df_x, column='value_zscore') # VALUE DISTRIBUTION"
   ]
  },
  {
   "cell_type": "code",
   "execution_count": 31,
   "id": "54d0cc80",
   "metadata": {},
   "outputs": [],
   "source": [
    "# Min-Max normalization per time series (per id)\n",
    "df_x['value_minmax'] = df_x.groupby('id')['value'].transform(\n",
    "    lambda x: (x - x.min()) / (x.max() - x.min() + 1e-8)\n",
    ")\n"
   ]
  },
  {
   "cell_type": "code",
   "execution_count": 39,
   "id": "7356eae4",
   "metadata": {},
   "outputs": [
    {
     "data": {
      "image/png": "[encoded data removed]",
      "text/plain": [
       "<Figure size 1000x500 with 1 Axes>"
      ]
     },
     "metadata": {},
     "output_type": "display_data"
    }
   ],
   "source": [
    "simple_value_histogram(df_x, column='value_minmax', range=(0, 1)) # VALUE DISTRIBUTION"
   ]
  },
  {
   "cell_type": "code",
   "execution_count": 42,
   "id": "6c3353e4",
   "metadata": {},
   "outputs": [
    {
     "data": {
      "text/html": [
       "<div>\n",
       "<style scoped>\n",
       "    .dataframe tbody tr th:only-of-type {\n",
       "        vertical-align: middle;\n",
       "    }\n",
       "\n",
       "    .dataframe tbody tr th {\n",
       "        vertical-align: top;\n",
       "    }\n",
       "\n",
       "    .dataframe thead th {\n",
       "        text-align: right;\n",
       "    }\n",
       "</style>\n",
       "<table border=\"1\" class=\"dataframe\">\n",
       "  <thead>\n",
       "    <tr style=\"text-align: right;\">\n",
       "      <th></th>\n",
       "      <th></th>\n",
       "      <th>value</th>\n",
       "      <th>period</th>\n",
       "      <th>value_zscore</th>\n",
       "      <th>value_minmax</th>\n",
       "    </tr>\n",
       "    <tr>\n",
       "      <th>id</th>\n",
       "      <th>time</th>\n",
       "      <th></th>\n",
       "      <th></th>\n",
       "      <th></th>\n",
       "      <th></th>\n",
       "    </tr>\n",
       "  </thead>\n",
       "  <tbody>\n",
       "    <tr>\n",
       "      <th rowspan=\"5\" valign=\"top\">0</th>\n",
       "      <th>0</th>\n",
       "      <td>-0.005564</td>\n",
       "      <td>0</td>\n",
       "      <td>-0.800718</td>\n",
       "      <td>0.328564</td>\n",
       "    </tr>\n",
       "    <tr>\n",
       "      <th>1</th>\n",
       "      <td>0.003705</td>\n",
       "      <td>0</td>\n",
       "      <td>0.530024</td>\n",
       "      <td>0.512889</td>\n",
       "    </tr>\n",
       "    <tr>\n",
       "      <th>2</th>\n",
       "      <td>0.013164</td>\n",
       "      <td>0</td>\n",
       "      <td>1.888001</td>\n",
       "      <td>0.700987</td>\n",
       "    </tr>\n",
       "    <tr>\n",
       "      <th>3</th>\n",
       "      <td>0.007151</td>\n",
       "      <td>0</td>\n",
       "      <td>1.024703</td>\n",
       "      <td>0.581409</td>\n",
       "    </tr>\n",
       "    <tr>\n",
       "      <th>4</th>\n",
       "      <td>-0.009979</td>\n",
       "      <td>0</td>\n",
       "      <td>-1.434461</td>\n",
       "      <td>0.240783</td>\n",
       "    </tr>\n",
       "    <tr>\n",
       "      <th>...</th>\n",
       "      <th>...</th>\n",
       "      <td>...</td>\n",
       "      <td>...</td>\n",
       "      <td>...</td>\n",
       "      <td>...</td>\n",
       "    </tr>\n",
       "    <tr>\n",
       "      <th rowspan=\"5\" valign=\"top\">10000</th>\n",
       "      <th>2134</th>\n",
       "      <td>0.001137</td>\n",
       "      <td>1</td>\n",
       "      <td>0.107084</td>\n",
       "      <td>0.476334</td>\n",
       "    </tr>\n",
       "    <tr>\n",
       "      <th>2135</th>\n",
       "      <td>0.003526</td>\n",
       "      <td>1</td>\n",
       "      <td>0.438965</td>\n",
       "      <td>0.506360</td>\n",
       "    </tr>\n",
       "    <tr>\n",
       "      <th>2136</th>\n",
       "      <td>0.000687</td>\n",
       "      <td>1</td>\n",
       "      <td>0.044458</td>\n",
       "      <td>0.470669</td>\n",
       "    </tr>\n",
       "    <tr>\n",
       "      <th>2137</th>\n",
       "      <td>0.001640</td>\n",
       "      <td>1</td>\n",
       "      <td>0.176868</td>\n",
       "      <td>0.482648</td>\n",
       "    </tr>\n",
       "    <tr>\n",
       "      <th>2138</th>\n",
       "      <td>0.001074</td>\n",
       "      <td>1</td>\n",
       "      <td>0.098279</td>\n",
       "      <td>0.475538</td>\n",
       "    </tr>\n",
       "  </tbody>\n",
       "</table>\n",
       "<p>23715734 rows × 4 columns</p>\n",
       "</div>"
      ],
      "text/plain": [
       "               value  period  value_zscore  value_minmax\n",
       "id    time                                              \n",
       "0     0    -0.005564       0     -0.800718      0.328564\n",
       "      1     0.003705       0      0.530024      0.512889\n",
       "      2     0.013164       0      1.888001      0.700987\n",
       "      3     0.007151       0      1.024703      0.581409\n",
       "      4    -0.009979       0     -1.434461      0.240783\n",
       "...              ...     ...           ...           ...\n",
       "10000 2134  0.001137       1      0.107084      0.476334\n",
       "      2135  0.003526       1      0.438965      0.506360\n",
       "      2136  0.000687       1      0.044458      0.470669\n",
       "      2137  0.001640       1      0.176868      0.482648\n",
       "      2138  0.001074       1      0.098279      0.475538\n",
       "\n",
       "[23715734 rows x 4 columns]"
      ]
     },
     "execution_count": 42,
     "metadata": {},
     "output_type": "execute_result"
    }
   ],
   "source": [
    "df_x"
   ]
  },
  {
   "cell_type": "code",
   "execution_count": null,
   "id": "7abffe61",
   "metadata": {},
   "outputs": [],
   "source": []
  }
 ],
 "metadata": {
  "kernelspec": {
   "display_name": "Python 3",
   "language": "python",
   "name": "python3"
  },
  "language_info": {
   "codemirror_mode": {
    "name": "ipython",
    "version": 3
   },
   "file_extension": ".py",
   "mimetype": "text/x-python",
   "name": "python",
   "nbconvert_exporter": "python",
   "pygments_lexer": "ipython3",
   "version": "3.13.3"
  }
 },
 "nbformat": 4,
 "nbformat_minor": 5
}
