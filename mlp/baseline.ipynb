{
 "cells": [
  {
   "cell_type": "code",
   "execution_count": 107,
   "id": "464f7c14",
   "metadata": {},
   "outputs": [
    {
     "data": {
      "text/plain": [
       "['y_train.parquet',\n",
       " 'X_train.parquet',\n",
       " '.gitignore',\n",
       " 'X_test.reduced.parquet',\n",
       " 'y_test.reduced.parquet']"
      ]
     },
     "execution_count": 107,
     "metadata": {},
     "output_type": "execute_result"
    }
   ],
   "source": [
    "import os\n",
    "\n",
    "PATH = \"/Users/arbaaz/Downloads/break/ds\"\n",
    "inputs_path = PATH+\"/X_train.parquet\"\n",
    "targets_path = PATH+\"/y_train.parquet\"\n",
    "os.listdir(PATH)"
   ]
  },
  {
   "cell_type": "code",
   "execution_count": 106,
   "id": "b4ad595f",
   "metadata": {},
   "outputs": [],
   "source": [
    "import pandas as pd\n",
    "\n",
    "def load_parquet(path):\n",
    "    return pd.read_parquet(path)\n",
    "\n",
    "inputs_df = load_parquet(inputs_path)\n",
    "targets_df = load_parquet(targets_path)"
   ]
  },
  {
   "cell_type": "code",
   "execution_count": null,
   "id": "2c8d2d93",
   "metadata": {},
   "outputs": [],
   "source": [
    "from sklearn.model_selection import train_test_split"
   ]
  },
  {
   "cell_type": "code",
   "execution_count": 109,
   "id": "db7907a4",
   "metadata": {},
   "outputs": [
    {
     "data": {
      "text/plain": [
       "<bound method DataFrame.reset_index of        structural_breakpoint\n",
       "id                          \n",
       "0                      False\n",
       "1                      False\n",
       "2                       True\n",
       "3                      False\n",
       "4                      False\n",
       "...                      ...\n",
       "9996                   False\n",
       "9997                   False\n",
       "9998                   False\n",
       "9999                   False\n",
       "10000                   True\n",
       "\n",
       "[10001 rows x 1 columns]>"
      ]
     },
     "execution_count": 109,
     "metadata": {},
     "output_type": "execute_result"
    }
   ],
   "source": [
    "targets_df.reset_index"
   ]
  },
  {
   "cell_type": "code",
   "execution_count": null,
   "id": "f3c43625",
   "metadata": {},
   "outputs": [],
   "source": [
    "import torch\n",
    "import torch.nn.functional as F\n",
    "from torch.utils.data import Dataset\n",
    "import numpy as np\n",
    "\n",
    "class SequentialDataset(Dataset):\n",
    "    def __init__(\n",
    "        self, \n",
    "        inputs_df, \n",
    "        target_df,\n",
    "        minmax=False,\n",
    "        zscore=False,\n",
    "        dimension=2048\n",
    "    ):  \n",
    "        if zscore:\n",
    "            inputs_df = self.perform_zscore(inputs_df)\n",
    "        if minmax:\n",
    "            inputs_df = self.perform_minmax(inputs_df)\n",
    "        \n",
    "        inputs = []    \n",
    "        for id, seq in inputs_df.groupby(\"id\"):\n",
    "            value = seq[\"value\"].values.astype(np.float32)\n",
    "            period = seq[\"period\"].values.astype(np.float32)\n",
    "            input = torch.tensor((value, period)).unsqueeze(0)\n",
    "            input = F.interpolate(input, size=dimension, mode=\"nearest-exact\").squeeze(0)\n",
    "            inputs.append(input) # 2, SEQ LEN\n",
    "            \n",
    "        targets = []\n",
    "        for id, target in target_df.groupby(\"id\"):\n",
    "            target = target[\"structural_breakpoint\"].values.astype(np.int32)\n",
    "            targets.append(torch.tensor(target))\n",
    "            \n",
    "        assert len(inputs) == len(targets), \"Length Error\"\n",
    "        self.inputs = inputs\n",
    "        self.targets = targets\n",
    "            \n",
    "    def perform_zscore(self, inputs_df):\n",
    "        inputs_df['value'] = inputs_df.groupby('id')['value'].transform(\n",
    "            lambda x: (x - x.mean()) / (x.std() + 1e-8)\n",
    "        )\n",
    "        return inputs_df\n",
    "\n",
    "    def perform_minmax(self, inputs_df):\n",
    "        inputs_df['value'] = inputs_df.groupby('id')['value'].transform(\n",
    "            lambda x: (x - x.min()) / (x.max() - x.min() + 1e-8)\n",
    "        )\n",
    "        return inputs_df\n",
    "    \n",
    "    def __len__(self):\n",
    "        return len(self.inputs)\n",
    "    \n",
    "    def __getitem__(self, index):   \n",
    "        return self.inputs[index], self.targets[index]\n",
    "\n",
    "ds = SequentialDataset(inputs_df, targets_df, zscore=True, dimension=2048)"
   ]
  },
  {
   "cell_type": "code",
   "execution_count": 96,
   "id": "927fe9d6",
   "metadata": {},
   "outputs": [],
   "source": [
    "from torch.utils.data import DataLoader\n",
    "\n",
    "\n",
    "def build_loader(\n",
    "    SEED,\n",
    "    ds,\n",
    "    train=True,\n",
    "    batch_size=16,\n",
    "    shuffle=False,\n",
    "    num_workers=4,\n",
    "    drop_last=True,\n",
    "    pin_memory=True,\n",
    "    persistent_workers=False,\n",
    "):\n",
    "    def seed_worker(worker_id):\n",
    "        worker_seed = torch.initial_seed() % 2**32\n",
    "        np.random.seed(worker_seed)\n",
    "        random.seed(worker_seed)\n",
    "\n",
    "    generator = torch.Generator()\n",
    "    generator.manual_seed(SEED if train else SEED+1)\n",
    "\n",
    "    return DataLoader(\n",
    "        ds,\n",
    "        batch_size=batch_size,\n",
    "        shuffle=shuffle,\n",
    "        num_workers=num_workers,\n",
    "        pin_memory=pin_memory,\n",
    "        drop_last=drop_last,\n",
    "        persistent_workers=persistent_workers,\n",
    "        worker_init_fn=seed_worker,\n",
    "        generator=generator,\n",
    "        #sampler=DistributedSampler(\n",
    "        #    train_ds,\n",
    "        #    shuffle=True,\n",
    "        #    drop_last=True,\n",
    "        #    seed=config.seed\n",
    "        #)\n",
    "    )\n",
    "    \n",
    "    \n",
    "train_dl = build_loader(\n",
    "    1,\n",
    "    ds,\n",
    "    train=True,\n",
    "    batch_size=4,\n",
    "    shuffle=True,\n",
    "    num_workers=0,\n",
    "    drop_last=True,\n",
    "    pin_memory=True,\n",
    "    persistent_workers=False,\n",
    ")"
   ]
  },
  {
   "cell_type": "code",
   "execution_count": 97,
   "id": "21da4abb",
   "metadata": {},
   "outputs": [
    {
     "name": "stderr",
     "output_type": "stream",
     "text": [
      "/Users/arbaaz/Library/Python/3.13/lib/python/site-packages/torch/utils/data/dataloader.py:683: UserWarning: 'pin_memory' argument is set as true but not supported on MPS now, then device pinned memory won't be used.\n",
      "  warnings.warn(warn_msg)\n"
     ]
    },
    {
     "data": {
      "application/vnd.jupyter.widget-view+json": {
       "model_id": "3375e390b67d4cf28e2f77d1f06a76a5",
       "version_major": 2,
       "version_minor": 0
      },
      "text/plain": [
       "  0%|          | 0/2500 [00:00<?, ?it/s]"
      ]
     },
     "metadata": {},
     "output_type": "display_data"
    }
   ],
   "source": [
    "from tqdm.auto import tqdm\n",
    "\n",
    "for i, t in tqdm(train_dl):\n",
    "    pass"
   ]
  },
  {
   "cell_type": "code",
   "execution_count": null,
   "id": "7d8543aa",
   "metadata": {},
   "outputs": [],
   "source": []
  }
 ],
 "metadata": {
  "kernelspec": {
   "display_name": "Python 3",
   "language": "python",
   "name": "python3"
  },
  "language_info": {
   "codemirror_mode": {
    "name": "ipython",
    "version": 3
   },
   "file_extension": ".py",
   "mimetype": "text/x-python",
   "name": "python",
   "nbconvert_exporter": "python",
   "pygments_lexer": "ipython3",
   "version": "3.13.3"
  }
 },
 "nbformat": 4,
 "nbformat_minor": 5
}
