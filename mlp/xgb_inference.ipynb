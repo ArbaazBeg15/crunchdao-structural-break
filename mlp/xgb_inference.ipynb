{
 "cells": [
  {
   "cell_type": "code",
   "execution_count": null,
   "id": "a046c73e",
   "metadata": {},
   "outputs": [],
   "source": [
    "%pip install crunch-cli --upgrade --quiet --progress-bar off\n",
    "!crunch setup-notebook structural-break lHPOlmgqIiOb2K8S7I0HHeof"
   ]
  },
  {
   "cell_type": "code",
   "execution_count": null,
   "id": "65754274",
   "metadata": {},
   "outputs": [],
   "source": [
    "import crunch\n",
    "\n",
    "# Load the Crunch Toolings\n",
    "crunch = crunch.load_notebook()"
   ]
  },
  {
   "cell_type": "code",
   "execution_count": null,
   "id": "bff2be92",
   "metadata": {},
   "outputs": [],
   "source": [
    "train_inputs, train_targets, eval_inputs = crunch.load_data()"
   ]
  },
  {
   "cell_type": "code",
   "execution_count": null,
   "id": "53089f42",
   "metadata": {},
   "outputs": [],
   "source": [
    "import pandas as pd\n",
    "import numpy as np\n",
    "\n",
    "\n",
    "def extract_features(df: pd.DataFrame) -> pd.Series:\n",
    "\n",
    "    before = df[df[\"period\"] == 0][\"value\"]\n",
    "    after = df[df[\"period\"] == 1][\"value\"]\n",
    "\n",
    "    features = {\n",
    "        \"mean_diff\": after.mean() - before.mean(),\n",
    "        \"std_diff\": after.std() - before.std(),\n",
    "        \"median_diff\": after.median() - before.median(),\n",
    "        \"iqr_diff\": (\n",
    "            np.percentile(after, 75) - np.percentile(after, 25)\n",
    "        ) - (\n",
    "            np.percentile(before, 75) - np.percentile(before, 25)\n",
    "        ),\n",
    "        \"mean_ratio\": after.mean() / (before.mean() + 1e-8),\n",
    "        \"std_ratio\": after.std() / (before.std() + 1e-8),\n",
    "        \"skew_diff\": after.skew() - before.skew(),\n",
    "        \"kurtosis_diff\": after.kurtosis() - before.kurtosis(),\n",
    "        \"min_diff\": after.min() - before.min(),\n",
    "        \"max_diff\": after.max() - before.max(),\n",
    "    }\n",
    "\n",
    "    return pd.Series(features).to_numpy()\n"
   ]
  },
  {
   "cell_type": "code",
   "execution_count": null,
   "id": "127677c9",
   "metadata": {},
   "outputs": [],
   "source": [
    "def train(\n",
    "    X_train: pd.DataFrame,\n",
    "    y_train: pd.Series,\n",
    "    model_directory_path: str,\n",
    "):\n",
    "    # For our baseline t-test approach, we don't need to train a model\n",
    "    # This is essentially an unsupervised approach calculated at inference time\n",
    "    model = None\n",
    "\n",
    "    # You could enhance this by training an actual model, for example:\n",
    "    # 1. Extract features from before/after segments of each time series\n",
    "    # 2. Train a classifier using these features and y_train labels\n",
    "    # 3. Save the trained model\n",
    "\n"
   ]
  },
  {
   "cell_type": "code",
   "execution_count": null,
   "id": "36625299",
   "metadata": {},
   "outputs": [],
   "source": [
    "import os\n",
    "import typing \n",
    "from xgboost import XGBClassifier\n",
    "from sklearn.preprocessing import StandardScaler\n",
    "\n",
    "def infer(\n",
    "    X_test: typing.Iterable[pd.DataFrame],\n",
    "    model_directory_path: str,\n",
    "):\n",
    "    scaler = StandardScaler()\n",
    "    train_inputs = scaler.fit_transform(train_inputs)\n",
    "    \n",
    "    model = XGBClassifier()  \n",
    "    model.load_model(os.path.join(model_directory_path, \"model.json\"))\n",
    "    yield\n",
    "    \n",
    "    for id, g in X_test.groupby(\"id\"):\n",
    "        inputs = extract_features(g)\n",
    "        inputs = scaler.transform(inputs)\n",
    "        inputs = inputs.reshape(1, -1)\n",
    "        prediction = model.predict_proba(inputs)[:, 1]\n",
    "        prediction = prediction.astype(np.float64)\n",
    "        yield prediction"
   ]
  },
  {
   "cell_type": "code",
   "execution_count": null,
   "id": "24182421",
   "metadata": {},
   "outputs": [],
   "source": [
    "crunch.test(\n",
    "    # Uncomment to disable the train\n",
    "      force_first_train=False,\n",
    "\n",
    "    # Uncomment to disable the determinism check\n",
    "    # no_determinism_check=True,\n",
    ")"
   ]
  },
  {
   "cell_type": "code",
   "execution_count": null,
   "id": "011ae9ec",
   "metadata": {},
   "outputs": [],
   "source": [
    "cruch"
   ]
  },
  {
   "cell_type": "code",
   "execution_count": null,
   "id": "efff8bfb",
   "metadata": {},
   "outputs": [],
   "source": []
  }
 ],
 "metadata": {
  "kernelspec": {
   "display_name": "Python 3 (ipykernel)",
   "language": "python",
   "name": "python3"
  },
  "language_info": {
   "codemirror_mode": {
    "name": "ipython",
    "version": 3
   },
   "file_extension": ".py",
   "mimetype": "text/x-python",
   "name": "python",
   "nbconvert_exporter": "python",
   "pygments_lexer": "ipython3",
   "version": "3.11.13"
  }
 },
 "nbformat": 4,
 "nbformat_minor": 5
}
